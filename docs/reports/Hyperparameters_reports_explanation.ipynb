{
 "cells": [
  {
   "cell_type": "markdown",
   "metadata": {},
   "source": [
    "## How we build reports to compare hyperparameters"
   ]
  },
  {
   "cell_type": "markdown",
   "metadata": {},
   "source": [
    "### Plot #1: prediction_strength(k)\n",
    "```\n",
    "* For each set of hyperparameters for each 'k', we have n_repeats values of prediction_strength.\n",
    "* Bold line - mean prediction_strength across the repeats.\n",
    "* Dashed line - mean +/- standard deviation of row-wise differences of prediction_strength across the repeats / sqrt(count of notna prediction_strength values) * 1.96.\n",
    "```\n",
    "#### Example:\n",
    "Assume, for k=3 for a certain set of hyperparameters, we have the following repeats of prediction_strength:\n",
    "\n",
    "$p = [0.11997, 0.12041, 0.14394, 0.12329, 0.12063]$\n",
    "\n",
    "Then, $\\mu = mean(p) = 0.12565$\n",
    "\n",
    "Row-wise difference $diff(p) = [NaN, 0.00044, 0.02353, -0.02065, -0.00266]$\n",
    "\n",
    "Standard deviation of the row-wise difference $std(diff(p)) = 0.01814$\n",
    "\n",
    "Corrected standard deviation of the row-wise difference: $std(diff(p)) \\div \\sqrt{2} = 0.01283$\n",
    "\n",
    "Finally, $\\sigma = 0.01283 \\div \\sqrt{5} * 1.96 = 0.01124$, where $5$ is the number of prediction_strength values, and $1.96$ is 95% confidence interval ratio.\n",
    "\n",
    "As the result, for the given k, we plot the confidence interval as $\\mu \\pm \\sigma = 0.12565 \\pm 0.01124 = (0.11441, 0.13689)$"
   ]
  },
  {
   "cell_type": "markdown",
   "metadata": {},
   "source": [
    "### Plot #2: difference(k)\n",
    "```\n",
    "* For each set of hyperparameters for each 'k', we have n_repeats values of prediction_strength and prediction_strength_null.\n",
    "\n",
    "```\n",
    "#### Example:\n",
    "Assume, for k=3 for a certain set of hyperparameters, we have the following repeats of prediction_strength (p) and prediction_strength_null (q):\n",
    "\n",
    "$p = [0.11997, 0.12041, 0.14394, 0.12329, 0.12063]$\n",
    "\n",
    "$q = [0.06273, 0.05969, 0.06639, 0.06939, 0.06093]$\n",
    "\n",
    "First, we calculate the difference: $d = p - q = [0.05724, 0.06072, 0.07755, 0.05390, 0.05970]$\n",
    "\n",
    "Then, $\\mu = mean(d) = 0.061822$\n",
    "\n",
    "Row-wise difference $\\mathrm{diff}(d) = [NaN, 0.00348, 0.01683, -0.02365, 0.00580]$\n",
    "\n",
    "Standard deviation of the row-wise difference $\\mathrm{std}(\\mathrm{diff}(d)) = 0.017193$\n",
    "\n",
    "Corrected standard deviation of the row-wise difference: $\\mathrm{std\\_diff} = \\mathrm{std}(\\mathrm{diff}(d)) \\div \\sqrt{2} = 0.012157$\n",
    "\n",
    "Finally, $\\mathrm{diff} = \\mu \\div \\mathrm{std\\_diff} * \\sqrt{5} = 0.061822 \\div 0.012157 * \\sqrt{5} = 11.37$, where $5$ is the number of prediction_strength values.\n",
    "\n",
    "As the result, for the given $k$, we plot the difference as $11.37$"
   ]
  },
  {
   "cell_type": "markdown",
   "metadata": {},
   "source": [
    "### Plot #3: significance of difference(k)"
   ]
  },
  {
   "cell_type": "markdown",
   "metadata": {},
   "source": [
    "#### Example:\n",
    "Assume, for k=3 for a certain set of hyperparameters, we have the following repeats of prediction_strength (p) and prediction_strength_null (q):\n",
    "\n",
    "$p = [0.11997, 0.12041, 0.14394, 0.12329, 0.12063]$\n",
    "\n",
    "$q = [0.06273, 0.05969, 0.06639, 0.06939, 0.06093]$\n",
    "\n",
    "First, we calculate Wilcoxon's statistics for these 2 vectors: `WilcoxonResult(statistic=0.0, pvalue=0.05905822909053671)`\n",
    "\n",
    "Then, we calculate the significance of difference as `-log10(pvalue) = -log10(0.05905822909053671) = 1.2287195798521244`"
   ]
  },
  {
   "cell_type": "markdown",
   "metadata": {},
   "source": [
    "### Plots order\n",
    "* Once we know `diff` value for each set of hyperparameter for each $k$ (see Plot #2 explanation), we calculate median diff across different $k$ for each set of hyperparameters. Then, we sort the sets of hyperparameters by the median in descending order.\n",
    "\n",
    "#### Example:\n",
    "Here, we have 3 sets of hyperparameters with `diff` values for 5 different $k$-s:\n",
    "```\n",
    "1: [-0.23628029 -2.17237457 -1.44203432  0.07912382 -1.92202354]\n",
    "2: [ 0.73650854 -2.73724806 -1.3097254  -2.60184368 -2.12028733]\n",
    "3: [ 0.23587845  1.73827656 -0.74251191  0.92892071  0.67904594]\n",
    "```\n",
    "\n",
    "Medians will be:\n",
    "```\n",
    "1: -1.44203432\n",
    "2: -2.12028733\n",
    "3:  0.67904594\n",
    "```\n",
    "\n",
    "Medians in descending order:\n",
    "```\n",
    "3:  0.67904594\n",
    "1: -1.44203432\n",
    "2: -2.12028733\n",
    "```\n",
    "\n",
    "As the result, we display the set of hyerparameters #3 first, then we display the set #1, and then #2."
   ]
  }
 ],
 "metadata": {
  "kernelspec": {
   "display_name": "Python 3",
   "language": "python",
   "name": "python3"
  },
  "language_info": {
   "codemirror_mode": {
    "name": "ipython",
    "version": 3
   },
   "file_extension": ".py",
   "mimetype": "text/x-python",
   "name": "python",
   "nbconvert_exporter": "python",
   "pygments_lexer": "ipython3",
   "version": "3.8.5"
  }
 },
 "nbformat": 4,
 "nbformat_minor": 4
}
